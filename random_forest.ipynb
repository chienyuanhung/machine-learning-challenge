{
 "cells": [
  {
   "cell_type": "code",
   "execution_count": 1,
   "metadata": {},
   "outputs": [
    {
     "name": "stdout",
     "output_type": "stream",
     "text": [
      "Requirement already up-to-date: sklearn in /anaconda3/lib/python3.7/site-packages (0.0)\r\n",
      "Requirement already satisfied, skipping upgrade: scikit-learn in /anaconda3/lib/python3.7/site-packages (from sklearn) (0.20.3)\r\n",
      "Requirement already satisfied, skipping upgrade: scipy>=0.13.3 in /anaconda3/lib/python3.7/site-packages (from scikit-learn->sklearn) (1.2.1)\r\n",
      "Requirement already satisfied, skipping upgrade: numpy>=1.8.2 in /anaconda3/lib/python3.7/site-packages (from scikit-learn->sklearn) (1.16.2)\r\n"
     ]
    }
   ],
   "source": [
    "# Update sklearn to prevent version mismatches\n",
    "!pip install sklearn --upgrade"
   ]
  },
  {
   "cell_type": "code",
   "execution_count": 2,
   "metadata": {},
   "outputs": [
    {
     "name": "stdout",
     "output_type": "stream",
     "text": [
      "Requirement already satisfied: joblib in /anaconda3/lib/python3.7/site-packages (0.13.2)\r\n"
     ]
    }
   ],
   "source": [
    "# install joblib. This will be used to save your model. \n",
    "# Restart your kernel after installing \n",
    "!pip install joblib"
   ]
  },
  {
   "cell_type": "code",
   "execution_count": 3,
   "metadata": {},
   "outputs": [],
   "source": [
    "import pandas as pd"
   ]
  },
  {
   "cell_type": "markdown",
   "metadata": {},
   "source": [
    "# Read the CSV and Perform Basic Data Cleaning"
   ]
  },
  {
   "cell_type": "code",
   "execution_count": 4,
   "metadata": {},
   "outputs": [
    {
     "data": {
      "text/html": [
       "<div>\n",
       "<style scoped>\n",
       "    .dataframe tbody tr th:only-of-type {\n",
       "        vertical-align: middle;\n",
       "    }\n",
       "\n",
       "    .dataframe tbody tr th {\n",
       "        vertical-align: top;\n",
       "    }\n",
       "\n",
       "    .dataframe thead th {\n",
       "        text-align: right;\n",
       "    }\n",
       "</style>\n",
       "<table border=\"1\" class=\"dataframe\">\n",
       "  <thead>\n",
       "    <tr style=\"text-align: right;\">\n",
       "      <th></th>\n",
       "      <th>koi_disposition</th>\n",
       "      <th>koi_fpflag_nt</th>\n",
       "      <th>koi_fpflag_ss</th>\n",
       "      <th>koi_fpflag_co</th>\n",
       "      <th>koi_fpflag_ec</th>\n",
       "      <th>koi_period</th>\n",
       "      <th>koi_period_err1</th>\n",
       "      <th>koi_period_err2</th>\n",
       "      <th>koi_time0bk</th>\n",
       "      <th>koi_time0bk_err1</th>\n",
       "      <th>...</th>\n",
       "      <th>koi_steff_err2</th>\n",
       "      <th>koi_slogg</th>\n",
       "      <th>koi_slogg_err1</th>\n",
       "      <th>koi_slogg_err2</th>\n",
       "      <th>koi_srad</th>\n",
       "      <th>koi_srad_err1</th>\n",
       "      <th>koi_srad_err2</th>\n",
       "      <th>ra</th>\n",
       "      <th>dec</th>\n",
       "      <th>koi_kepmag</th>\n",
       "    </tr>\n",
       "  </thead>\n",
       "  <tbody>\n",
       "    <tr>\n",
       "      <th>0</th>\n",
       "      <td>CONFIRMED</td>\n",
       "      <td>0</td>\n",
       "      <td>0</td>\n",
       "      <td>0</td>\n",
       "      <td>0</td>\n",
       "      <td>54.418383</td>\n",
       "      <td>2.479000e-04</td>\n",
       "      <td>-2.479000e-04</td>\n",
       "      <td>162.513840</td>\n",
       "      <td>0.003520</td>\n",
       "      <td>...</td>\n",
       "      <td>-81</td>\n",
       "      <td>4.467</td>\n",
       "      <td>0.064</td>\n",
       "      <td>-0.096</td>\n",
       "      <td>0.927</td>\n",
       "      <td>0.105</td>\n",
       "      <td>-0.061</td>\n",
       "      <td>291.93423</td>\n",
       "      <td>48.141651</td>\n",
       "      <td>15.347</td>\n",
       "    </tr>\n",
       "    <tr>\n",
       "      <th>1</th>\n",
       "      <td>FALSE POSITIVE</td>\n",
       "      <td>0</td>\n",
       "      <td>1</td>\n",
       "      <td>0</td>\n",
       "      <td>0</td>\n",
       "      <td>19.899140</td>\n",
       "      <td>1.490000e-05</td>\n",
       "      <td>-1.490000e-05</td>\n",
       "      <td>175.850252</td>\n",
       "      <td>0.000581</td>\n",
       "      <td>...</td>\n",
       "      <td>-176</td>\n",
       "      <td>4.544</td>\n",
       "      <td>0.044</td>\n",
       "      <td>-0.176</td>\n",
       "      <td>0.868</td>\n",
       "      <td>0.233</td>\n",
       "      <td>-0.078</td>\n",
       "      <td>297.00482</td>\n",
       "      <td>48.134129</td>\n",
       "      <td>15.436</td>\n",
       "    </tr>\n",
       "    <tr>\n",
       "      <th>2</th>\n",
       "      <td>FALSE POSITIVE</td>\n",
       "      <td>0</td>\n",
       "      <td>1</td>\n",
       "      <td>0</td>\n",
       "      <td>0</td>\n",
       "      <td>1.736952</td>\n",
       "      <td>2.630000e-07</td>\n",
       "      <td>-2.630000e-07</td>\n",
       "      <td>170.307565</td>\n",
       "      <td>0.000115</td>\n",
       "      <td>...</td>\n",
       "      <td>-174</td>\n",
       "      <td>4.564</td>\n",
       "      <td>0.053</td>\n",
       "      <td>-0.168</td>\n",
       "      <td>0.791</td>\n",
       "      <td>0.201</td>\n",
       "      <td>-0.067</td>\n",
       "      <td>285.53461</td>\n",
       "      <td>48.285210</td>\n",
       "      <td>15.597</td>\n",
       "    </tr>\n",
       "    <tr>\n",
       "      <th>3</th>\n",
       "      <td>CONFIRMED</td>\n",
       "      <td>0</td>\n",
       "      <td>0</td>\n",
       "      <td>0</td>\n",
       "      <td>0</td>\n",
       "      <td>2.525592</td>\n",
       "      <td>3.760000e-06</td>\n",
       "      <td>-3.760000e-06</td>\n",
       "      <td>171.595550</td>\n",
       "      <td>0.001130</td>\n",
       "      <td>...</td>\n",
       "      <td>-211</td>\n",
       "      <td>4.438</td>\n",
       "      <td>0.070</td>\n",
       "      <td>-0.210</td>\n",
       "      <td>1.046</td>\n",
       "      <td>0.334</td>\n",
       "      <td>-0.133</td>\n",
       "      <td>288.75488</td>\n",
       "      <td>48.226200</td>\n",
       "      <td>15.509</td>\n",
       "    </tr>\n",
       "    <tr>\n",
       "      <th>4</th>\n",
       "      <td>CONFIRMED</td>\n",
       "      <td>0</td>\n",
       "      <td>0</td>\n",
       "      <td>0</td>\n",
       "      <td>0</td>\n",
       "      <td>4.134435</td>\n",
       "      <td>1.050000e-05</td>\n",
       "      <td>-1.050000e-05</td>\n",
       "      <td>172.979370</td>\n",
       "      <td>0.001900</td>\n",
       "      <td>...</td>\n",
       "      <td>-232</td>\n",
       "      <td>4.486</td>\n",
       "      <td>0.054</td>\n",
       "      <td>-0.229</td>\n",
       "      <td>0.972</td>\n",
       "      <td>0.315</td>\n",
       "      <td>-0.105</td>\n",
       "      <td>296.28613</td>\n",
       "      <td>48.224670</td>\n",
       "      <td>15.714</td>\n",
       "    </tr>\n",
       "  </tbody>\n",
       "</table>\n",
       "<p>5 rows × 41 columns</p>\n",
       "</div>"
      ],
      "text/plain": [
       "  koi_disposition  koi_fpflag_nt  koi_fpflag_ss  koi_fpflag_co  koi_fpflag_ec  \\\n",
       "0       CONFIRMED              0              0              0              0   \n",
       "1  FALSE POSITIVE              0              1              0              0   \n",
       "2  FALSE POSITIVE              0              1              0              0   \n",
       "3       CONFIRMED              0              0              0              0   \n",
       "4       CONFIRMED              0              0              0              0   \n",
       "\n",
       "   koi_period  koi_period_err1  koi_period_err2  koi_time0bk  \\\n",
       "0   54.418383     2.479000e-04    -2.479000e-04   162.513840   \n",
       "1   19.899140     1.490000e-05    -1.490000e-05   175.850252   \n",
       "2    1.736952     2.630000e-07    -2.630000e-07   170.307565   \n",
       "3    2.525592     3.760000e-06    -3.760000e-06   171.595550   \n",
       "4    4.134435     1.050000e-05    -1.050000e-05   172.979370   \n",
       "\n",
       "   koi_time0bk_err1  ...  koi_steff_err2  koi_slogg  koi_slogg_err1  \\\n",
       "0          0.003520  ...             -81      4.467           0.064   \n",
       "1          0.000581  ...            -176      4.544           0.044   \n",
       "2          0.000115  ...            -174      4.564           0.053   \n",
       "3          0.001130  ...            -211      4.438           0.070   \n",
       "4          0.001900  ...            -232      4.486           0.054   \n",
       "\n",
       "   koi_slogg_err2  koi_srad  koi_srad_err1  koi_srad_err2         ra  \\\n",
       "0          -0.096     0.927          0.105         -0.061  291.93423   \n",
       "1          -0.176     0.868          0.233         -0.078  297.00482   \n",
       "2          -0.168     0.791          0.201         -0.067  285.53461   \n",
       "3          -0.210     1.046          0.334         -0.133  288.75488   \n",
       "4          -0.229     0.972          0.315         -0.105  296.28613   \n",
       "\n",
       "         dec  koi_kepmag  \n",
       "0  48.141651      15.347  \n",
       "1  48.134129      15.436  \n",
       "2  48.285210      15.597  \n",
       "3  48.226200      15.509  \n",
       "4  48.224670      15.714  \n",
       "\n",
       "[5 rows x 41 columns]"
      ]
     },
     "execution_count": 4,
     "metadata": {},
     "output_type": "execute_result"
    }
   ],
   "source": [
    "df = pd.read_csv(\"exoplanet_data.csv\")\n",
    "# Drop the null columns where all values are null\n",
    "df = df.dropna(axis='columns', how='all')\n",
    "# Drop the null rows\n",
    "df = df.dropna()\n",
    "df.head()"
   ]
  },
  {
   "cell_type": "markdown",
   "metadata": {},
   "source": [
    "# Select your features (columns)"
   ]
  },
  {
   "cell_type": "code",
   "execution_count": 33,
   "metadata": {},
   "outputs": [],
   "source": [
    "# Set features. This will also be used as your x values.\n",
    "\n",
    "selected_features = df[['koi_fpflag_nt', 'koi_fpflag_ss', 'koi_fpflag_co', 'koi_fpflag_ec', 'koi_period', 'koi_period_err1',\n",
    "        'koi_time0bk', 'koi_time0bk_err1','koi_impact', 'koi_impact_err1','koi_duration', 'koi_duration_err1',\n",
    "        'koi_depth', 'koi_depth_err1','koi_prad', 'koi_prad_err1', 'koi_teq', 'koi_insol', 'koi_insol_err1',\n",
    "       'koi_model_snr', 'koi_tce_plnt_num', 'koi_steff', 'koi_steff_err1','koi_slogg', 'koi_slogg_err1', \n",
    "       'koi_srad', 'koi_srad_err1',  'ra', 'dec','koi_kepmag']]"
   ]
  },
  {
   "cell_type": "markdown",
   "metadata": {},
   "source": [
    "# Create a Train Test Split\n",
    "\n",
    "Use `koi_disposition` for the y values"
   ]
  },
  {
   "cell_type": "code",
   "execution_count": 34,
   "metadata": {},
   "outputs": [
    {
     "data": {
      "text/plain": [
       "array([['CONFIRMED'],\n",
       "       ['FALSE POSITIVE'],\n",
       "       ['FALSE POSITIVE'],\n",
       "       ...,\n",
       "       ['CANDIDATE'],\n",
       "       ['FALSE POSITIVE'],\n",
       "       ['FALSE POSITIVE']], dtype=object)"
      ]
     },
     "execution_count": 34,
     "metadata": {},
     "output_type": "execute_result"
    }
   ],
   "source": [
    "target = df['koi_disposition'].values.reshape(-1, 1)\n",
    "target"
   ]
  },
  {
   "cell_type": "code",
   "execution_count": 35,
   "metadata": {},
   "outputs": [],
   "source": [
    "# split train and test sets\n",
    "from sklearn.model_selection import train_test_split\n",
    "X_train, X_test, y_train, y_test = train_test_split(selected_features, target, random_state=42)"
   ]
  },
  {
   "cell_type": "code",
   "execution_count": 36,
   "metadata": {},
   "outputs": [
    {
     "data": {
      "text/html": [
       "<div>\n",
       "<style scoped>\n",
       "    .dataframe tbody tr th:only-of-type {\n",
       "        vertical-align: middle;\n",
       "    }\n",
       "\n",
       "    .dataframe tbody tr th {\n",
       "        vertical-align: top;\n",
       "    }\n",
       "\n",
       "    .dataframe thead th {\n",
       "        text-align: right;\n",
       "    }\n",
       "</style>\n",
       "<table border=\"1\" class=\"dataframe\">\n",
       "  <thead>\n",
       "    <tr style=\"text-align: right;\">\n",
       "      <th></th>\n",
       "      <th>koi_fpflag_nt</th>\n",
       "      <th>koi_fpflag_ss</th>\n",
       "      <th>koi_fpflag_co</th>\n",
       "      <th>koi_fpflag_ec</th>\n",
       "      <th>koi_period</th>\n",
       "      <th>koi_period_err1</th>\n",
       "      <th>koi_time0bk</th>\n",
       "      <th>koi_time0bk_err1</th>\n",
       "      <th>koi_impact</th>\n",
       "      <th>koi_impact_err1</th>\n",
       "      <th>...</th>\n",
       "      <th>koi_tce_plnt_num</th>\n",
       "      <th>koi_steff</th>\n",
       "      <th>koi_steff_err1</th>\n",
       "      <th>koi_slogg</th>\n",
       "      <th>koi_slogg_err1</th>\n",
       "      <th>koi_srad</th>\n",
       "      <th>koi_srad_err1</th>\n",
       "      <th>ra</th>\n",
       "      <th>dec</th>\n",
       "      <th>koi_kepmag</th>\n",
       "    </tr>\n",
       "  </thead>\n",
       "  <tbody>\n",
       "    <tr>\n",
       "      <th>6122</th>\n",
       "      <td>0</td>\n",
       "      <td>0</td>\n",
       "      <td>0</td>\n",
       "      <td>0</td>\n",
       "      <td>6.768901</td>\n",
       "      <td>7.380000e-05</td>\n",
       "      <td>133.077240</td>\n",
       "      <td>0.008440</td>\n",
       "      <td>0.150</td>\n",
       "      <td>0.305</td>\n",
       "      <td>...</td>\n",
       "      <td>1</td>\n",
       "      <td>5737</td>\n",
       "      <td>154</td>\n",
       "      <td>4.327</td>\n",
       "      <td>0.153</td>\n",
       "      <td>1.125</td>\n",
       "      <td>0.310</td>\n",
       "      <td>294.40472</td>\n",
       "      <td>39.351681</td>\n",
       "      <td>14.725</td>\n",
       "    </tr>\n",
       "    <tr>\n",
       "      <th>6370</th>\n",
       "      <td>0</td>\n",
       "      <td>1</td>\n",
       "      <td>0</td>\n",
       "      <td>1</td>\n",
       "      <td>0.733726</td>\n",
       "      <td>6.060000e-06</td>\n",
       "      <td>132.020050</td>\n",
       "      <td>0.007950</td>\n",
       "      <td>0.291</td>\n",
       "      <td>0.193</td>\n",
       "      <td>...</td>\n",
       "      <td>1</td>\n",
       "      <td>5855</td>\n",
       "      <td>158</td>\n",
       "      <td>4.578</td>\n",
       "      <td>0.033</td>\n",
       "      <td>0.797</td>\n",
       "      <td>0.211</td>\n",
       "      <td>284.50391</td>\n",
       "      <td>42.463860</td>\n",
       "      <td>15.770</td>\n",
       "    </tr>\n",
       "    <tr>\n",
       "      <th>2879</th>\n",
       "      <td>1</td>\n",
       "      <td>0</td>\n",
       "      <td>0</td>\n",
       "      <td>0</td>\n",
       "      <td>7.652707</td>\n",
       "      <td>6.540000e-05</td>\n",
       "      <td>134.460380</td>\n",
       "      <td>0.006190</td>\n",
       "      <td>0.970</td>\n",
       "      <td>0.879</td>\n",
       "      <td>...</td>\n",
       "      <td>1</td>\n",
       "      <td>6328</td>\n",
       "      <td>151</td>\n",
       "      <td>4.481</td>\n",
       "      <td>0.050</td>\n",
       "      <td>0.963</td>\n",
       "      <td>0.290</td>\n",
       "      <td>295.50211</td>\n",
       "      <td>38.983540</td>\n",
       "      <td>13.099</td>\n",
       "    </tr>\n",
       "    <tr>\n",
       "      <th>107</th>\n",
       "      <td>0</td>\n",
       "      <td>0</td>\n",
       "      <td>0</td>\n",
       "      <td>0</td>\n",
       "      <td>7.953547</td>\n",
       "      <td>1.910000e-05</td>\n",
       "      <td>174.662240</td>\n",
       "      <td>0.001820</td>\n",
       "      <td>0.300</td>\n",
       "      <td>0.145</td>\n",
       "      <td>...</td>\n",
       "      <td>1</td>\n",
       "      <td>4768</td>\n",
       "      <td>76</td>\n",
       "      <td>4.536</td>\n",
       "      <td>0.056</td>\n",
       "      <td>0.779</td>\n",
       "      <td>0.023</td>\n",
       "      <td>291.15878</td>\n",
       "      <td>40.750271</td>\n",
       "      <td>15.660</td>\n",
       "    </tr>\n",
       "    <tr>\n",
       "      <th>29</th>\n",
       "      <td>0</td>\n",
       "      <td>0</td>\n",
       "      <td>0</td>\n",
       "      <td>0</td>\n",
       "      <td>4.959319</td>\n",
       "      <td>5.150000e-07</td>\n",
       "      <td>172.258529</td>\n",
       "      <td>0.000083</td>\n",
       "      <td>0.831</td>\n",
       "      <td>0.016</td>\n",
       "      <td>...</td>\n",
       "      <td>1</td>\n",
       "      <td>5712</td>\n",
       "      <td>77</td>\n",
       "      <td>4.359</td>\n",
       "      <td>0.110</td>\n",
       "      <td>1.082</td>\n",
       "      <td>0.173</td>\n",
       "      <td>292.16705</td>\n",
       "      <td>48.727589</td>\n",
       "      <td>15.263</td>\n",
       "    </tr>\n",
       "  </tbody>\n",
       "</table>\n",
       "<p>5 rows × 30 columns</p>\n",
       "</div>"
      ],
      "text/plain": [
       "      koi_fpflag_nt  koi_fpflag_ss  koi_fpflag_co  koi_fpflag_ec  koi_period  \\\n",
       "6122              0              0              0              0    6.768901   \n",
       "6370              0              1              0              1    0.733726   \n",
       "2879              1              0              0              0    7.652707   \n",
       "107               0              0              0              0    7.953547   \n",
       "29                0              0              0              0    4.959319   \n",
       "\n",
       "      koi_period_err1  koi_time0bk  koi_time0bk_err1  koi_impact  \\\n",
       "6122     7.380000e-05   133.077240          0.008440       0.150   \n",
       "6370     6.060000e-06   132.020050          0.007950       0.291   \n",
       "2879     6.540000e-05   134.460380          0.006190       0.970   \n",
       "107      1.910000e-05   174.662240          0.001820       0.300   \n",
       "29       5.150000e-07   172.258529          0.000083       0.831   \n",
       "\n",
       "      koi_impact_err1  ...  koi_tce_plnt_num  koi_steff  koi_steff_err1  \\\n",
       "6122            0.305  ...                 1       5737             154   \n",
       "6370            0.193  ...                 1       5855             158   \n",
       "2879            0.879  ...                 1       6328             151   \n",
       "107             0.145  ...                 1       4768              76   \n",
       "29              0.016  ...                 1       5712              77   \n",
       "\n",
       "      koi_slogg  koi_slogg_err1  koi_srad  koi_srad_err1         ra  \\\n",
       "6122      4.327           0.153     1.125          0.310  294.40472   \n",
       "6370      4.578           0.033     0.797          0.211  284.50391   \n",
       "2879      4.481           0.050     0.963          0.290  295.50211   \n",
       "107       4.536           0.056     0.779          0.023  291.15878   \n",
       "29        4.359           0.110     1.082          0.173  292.16705   \n",
       "\n",
       "            dec  koi_kepmag  \n",
       "6122  39.351681      14.725  \n",
       "6370  42.463860      15.770  \n",
       "2879  38.983540      13.099  \n",
       "107   40.750271      15.660  \n",
       "29    48.727589      15.263  \n",
       "\n",
       "[5 rows x 30 columns]"
      ]
     },
     "execution_count": 36,
     "metadata": {},
     "output_type": "execute_result"
    }
   ],
   "source": [
    "X_train.head()"
   ]
  },
  {
   "cell_type": "markdown",
   "metadata": {},
   "source": [
    "# Pre-processing\n",
    "\n",
    "Scale the data using the MinMaxScaler and perform some feature selection"
   ]
  },
  {
   "cell_type": "code",
   "execution_count": 37,
   "metadata": {},
   "outputs": [
    {
     "name": "stderr",
     "output_type": "stream",
     "text": [
      "/anaconda3/lib/python3.7/site-packages/sklearn/preprocessing/data.py:334: DataConversionWarning: Data with input dtype int64, float64 were all converted to float64 by MinMaxScaler.\n",
      "  return self.partial_fit(X, y)\n"
     ]
    }
   ],
   "source": [
    "# Scale your data\n",
    "from sklearn.preprocessing import LabelEncoder, MinMaxScaler\n",
    "\n",
    "X_scaler = MinMaxScaler().fit(X_train)\n",
    "X_train_scaled = X_scaler.transform(X_train)\n",
    "X_test_scaled = X_scaler.transform(X_test)"
   ]
  },
  {
   "cell_type": "code",
   "execution_count": 38,
   "metadata": {},
   "outputs": [
    {
     "name": "stderr",
     "output_type": "stream",
     "text": [
      "/anaconda3/lib/python3.7/site-packages/sklearn/preprocessing/label.py:219: DataConversionWarning: A column-vector y was passed when a 1d array was expected. Please change the shape of y to (n_samples, ), for example using ravel().\n",
      "  y = column_or_1d(y, warn=True)\n",
      "/anaconda3/lib/python3.7/site-packages/sklearn/preprocessing/label.py:252: DataConversionWarning: A column-vector y was passed when a 1d array was expected. Please change the shape of y to (n_samples, ), for example using ravel().\n",
      "  y = column_or_1d(y, warn=True)\n"
     ]
    }
   ],
   "source": [
    "# encode target data\n",
    "\n",
    "label_encoder = LabelEncoder()\n",
    "label_encoder.fit(y_train)\n",
    "encoded_y_train = label_encoder.transform(y_train)\n",
    "encoded_y_test = label_encoder.transform(y_test)\n"
   ]
  },
  {
   "cell_type": "markdown",
   "metadata": {},
   "source": [
    "# Train the Model\n",
    "\n"
   ]
  },
  {
   "cell_type": "code",
   "execution_count": 39,
   "metadata": {},
   "outputs": [],
   "source": [
    "from sklearn.ensemble import RandomForestClassifier"
   ]
  },
  {
   "cell_type": "code",
   "execution_count": 40,
   "metadata": {},
   "outputs": [
    {
     "data": {
      "text/plain": [
       "RandomForestClassifier(bootstrap=True, class_weight=None, criterion='gini',\n",
       "            max_depth=None, max_features='auto', max_leaf_nodes=None,\n",
       "            min_impurity_decrease=0.0, min_impurity_split=None,\n",
       "            min_samples_leaf=1, min_samples_split=2,\n",
       "            min_weight_fraction_leaf=0.0, n_estimators=200, n_jobs=None,\n",
       "            oob_score=False, random_state=None, verbose=0,\n",
       "            warm_start=False)"
      ]
     },
     "execution_count": 40,
     "metadata": {},
     "output_type": "execute_result"
    }
   ],
   "source": [
    "model = RandomForestClassifier(n_estimators=200)\n",
    "model.fit(X_train_scaled, encoded_y_train)"
   ]
  },
  {
   "cell_type": "code",
   "execution_count": 41,
   "metadata": {},
   "outputs": [
    {
     "name": "stdout",
     "output_type": "stream",
     "text": [
      "Training Data Score: 1.0\n",
      "Testing Data Score: 0.9056064073226545\n"
     ]
    }
   ],
   "source": [
    "print(f\"Training Data Score: {model.score(X_train_scaled, encoded_y_train)}\")\n",
    "print(f\"Testing Data Score: {model.score(X_test_scaled, encoded_y_test)}\")"
   ]
  },
  {
   "cell_type": "markdown",
   "metadata": {},
   "source": [
    "# Hyperparameter Tuning\n",
    "\n",
    "Use `GridSearchCV` to tune the model's parameters"
   ]
  },
  {
   "cell_type": "code",
   "execution_count": 42,
   "metadata": {},
   "outputs": [],
   "source": [
    "# Create the GridSearchCV model\n",
    "from sklearn.model_selection import GridSearchCV\n",
    "param_grid = {'n_estimators': [100, 200, 500, 1000],\n",
    "              'min_samples_split': [2, 3, 4], \n",
    "             \"bootstrap\": [True, False],\n",
    "              \"criterion\": [\"gini\", \"entropy\"]}\n",
    "\n",
    "grid = GridSearchCV(model, param_grid, verbose=3)"
   ]
  },
  {
   "cell_type": "code",
   "execution_count": 43,
   "metadata": {},
   "outputs": [
    {
     "name": "stderr",
     "output_type": "stream",
     "text": [
      "/anaconda3/lib/python3.7/site-packages/sklearn/model_selection/_split.py:2053: FutureWarning: You should specify a value for 'cv' instead of relying on the default value. The default value will change from 3 to 5 in version 0.22.\n",
      "  warnings.warn(CV_WARNING, FutureWarning)\n",
      "[Parallel(n_jobs=1)]: Using backend SequentialBackend with 1 concurrent workers.\n"
     ]
    },
    {
     "name": "stdout",
     "output_type": "stream",
     "text": [
      "Fitting 3 folds for each of 48 candidates, totalling 144 fits\n",
      "[CV] bootstrap=True, criterion=gini, min_samples_split=2, n_estimators=100 \n",
      "[CV]  bootstrap=True, criterion=gini, min_samples_split=2, n_estimators=100, score=0.906232132647227, total=   0.9s\n",
      "[CV] bootstrap=True, criterion=gini, min_samples_split=2, n_estimators=100 \n"
     ]
    },
    {
     "name": "stderr",
     "output_type": "stream",
     "text": [
      "[Parallel(n_jobs=1)]: Done   1 out of   1 | elapsed:    0.9s remaining:    0.0s\n"
     ]
    },
    {
     "name": "stdout",
     "output_type": "stream",
     "text": [
      "[CV]  bootstrap=True, criterion=gini, min_samples_split=2, n_estimators=100, score=0.8924485125858124, total=   0.8s\n",
      "[CV] bootstrap=True, criterion=gini, min_samples_split=2, n_estimators=100 \n"
     ]
    },
    {
     "name": "stderr",
     "output_type": "stream",
     "text": [
      "[Parallel(n_jobs=1)]: Done   2 out of   2 | elapsed:    1.8s remaining:    0.0s\n"
     ]
    },
    {
     "name": "stdout",
     "output_type": "stream",
     "text": [
      "[CV]  bootstrap=True, criterion=gini, min_samples_split=2, n_estimators=100, score=0.8837342497136311, total=   0.8s\n",
      "[CV] bootstrap=True, criterion=gini, min_samples_split=2, n_estimators=200 \n",
      "[CV]  bootstrap=True, criterion=gini, min_samples_split=2, n_estimators=200, score=0.9033733562035449, total=   1.7s\n",
      "[CV] bootstrap=True, criterion=gini, min_samples_split=2, n_estimators=200 \n",
      "[CV]  bootstrap=True, criterion=gini, min_samples_split=2, n_estimators=200, score=0.8918764302059496, total=   1.6s\n",
      "[CV] bootstrap=True, criterion=gini, min_samples_split=2, n_estimators=200 \n",
      "[CV]  bootstrap=True, criterion=gini, min_samples_split=2, n_estimators=200, score=0.8814432989690721, total=   1.6s\n",
      "[CV] bootstrap=True, criterion=gini, min_samples_split=2, n_estimators=500 \n",
      "[CV]  bootstrap=True, criterion=gini, min_samples_split=2, n_estimators=500, score=0.9108061749571184, total=   4.0s\n",
      "[CV] bootstrap=True, criterion=gini, min_samples_split=2, n_estimators=500 \n",
      "[CV]  bootstrap=True, criterion=gini, min_samples_split=2, n_estimators=500, score=0.8935926773455377, total=   4.1s\n",
      "[CV] bootstrap=True, criterion=gini, min_samples_split=2, n_estimators=500 \n",
      "[CV]  bootstrap=True, criterion=gini, min_samples_split=2, n_estimators=500, score=0.8843069873997709, total=   4.0s\n",
      "[CV] bootstrap=True, criterion=gini, min_samples_split=2, n_estimators=1000 \n",
      "[CV]  bootstrap=True, criterion=gini, min_samples_split=2, n_estimators=1000, score=0.9056603773584906, total=   8.0s\n",
      "[CV] bootstrap=True, criterion=gini, min_samples_split=2, n_estimators=1000 \n",
      "[CV]  bootstrap=True, criterion=gini, min_samples_split=2, n_estimators=1000, score=0.8930205949656751, total=   7.9s\n",
      "[CV] bootstrap=True, criterion=gini, min_samples_split=2, n_estimators=1000 \n",
      "[CV]  bootstrap=True, criterion=gini, min_samples_split=2, n_estimators=1000, score=0.8848797250859106, total=   7.8s\n",
      "[CV] bootstrap=True, criterion=gini, min_samples_split=3, n_estimators=100 \n",
      "[CV]  bootstrap=True, criterion=gini, min_samples_split=3, n_estimators=100, score=0.9010863350485993, total=   0.8s\n",
      "[CV] bootstrap=True, criterion=gini, min_samples_split=3, n_estimators=100 \n",
      "[CV]  bootstrap=True, criterion=gini, min_samples_split=3, n_estimators=100, score=0.8872997711670481, total=   0.8s\n",
      "[CV] bootstrap=True, criterion=gini, min_samples_split=3, n_estimators=100 \n",
      "[CV]  bootstrap=True, criterion=gini, min_samples_split=3, n_estimators=100, score=0.8843069873997709, total=   0.8s\n",
      "[CV] bootstrap=True, criterion=gini, min_samples_split=3, n_estimators=200 \n",
      "[CV]  bootstrap=True, criterion=gini, min_samples_split=3, n_estimators=200, score=0.9028016009148084, total=   1.6s\n",
      "[CV] bootstrap=True, criterion=gini, min_samples_split=3, n_estimators=200 \n",
      "[CV]  bootstrap=True, criterion=gini, min_samples_split=3, n_estimators=200, score=0.8935926773455377, total=   1.6s\n",
      "[CV] bootstrap=True, criterion=gini, min_samples_split=3, n_estimators=200 \n",
      "[CV]  bootstrap=True, criterion=gini, min_samples_split=3, n_estimators=200, score=0.8814432989690721, total=   1.6s\n",
      "[CV] bootstrap=True, criterion=gini, min_samples_split=3, n_estimators=500 \n",
      "[CV]  bootstrap=True, criterion=gini, min_samples_split=3, n_estimators=500, score=0.9039451114922813, total=   4.0s\n",
      "[CV] bootstrap=True, criterion=gini, min_samples_split=3, n_estimators=500 \n",
      "[CV]  bootstrap=True, criterion=gini, min_samples_split=3, n_estimators=500, score=0.8947368421052632, total=   3.9s\n",
      "[CV] bootstrap=True, criterion=gini, min_samples_split=3, n_estimators=500 \n",
      "[CV]  bootstrap=True, criterion=gini, min_samples_split=3, n_estimators=500, score=0.8848797250859106, total=   3.9s\n",
      "[CV] bootstrap=True, criterion=gini, min_samples_split=3, n_estimators=1000 \n",
      "[CV]  bootstrap=True, criterion=gini, min_samples_split=3, n_estimators=1000, score=0.9056603773584906, total=   7.9s\n",
      "[CV] bootstrap=True, criterion=gini, min_samples_split=3, n_estimators=1000 \n",
      "[CV]  bootstrap=True, criterion=gini, min_samples_split=3, n_estimators=1000, score=0.8930205949656751, total=   7.9s\n",
      "[CV] bootstrap=True, criterion=gini, min_samples_split=3, n_estimators=1000 \n",
      "[CV]  bootstrap=True, criterion=gini, min_samples_split=3, n_estimators=1000, score=0.8831615120274914, total=   7.8s\n",
      "[CV] bootstrap=True, criterion=gini, min_samples_split=4, n_estimators=100 \n",
      "[CV]  bootstrap=True, criterion=gini, min_samples_split=4, n_estimators=100, score=0.9016580903373356, total=   0.8s\n",
      "[CV] bootstrap=True, criterion=gini, min_samples_split=4, n_estimators=100 \n",
      "[CV]  bootstrap=True, criterion=gini, min_samples_split=4, n_estimators=100, score=0.8918764302059496, total=   0.8s\n",
      "[CV] bootstrap=True, criterion=gini, min_samples_split=4, n_estimators=100 \n",
      "[CV]  bootstrap=True, criterion=gini, min_samples_split=4, n_estimators=100, score=0.8808705612829324, total=   0.8s\n",
      "[CV] bootstrap=True, criterion=gini, min_samples_split=4, n_estimators=200 \n",
      "[CV]  bootstrap=True, criterion=gini, min_samples_split=4, n_estimators=200, score=0.9028016009148084, total=   1.6s\n",
      "[CV] bootstrap=True, criterion=gini, min_samples_split=4, n_estimators=200 \n",
      "[CV]  bootstrap=True, criterion=gini, min_samples_split=4, n_estimators=200, score=0.8918764302059496, total=   1.6s\n",
      "[CV] bootstrap=True, criterion=gini, min_samples_split=4, n_estimators=200 \n",
      "[CV]  bootstrap=True, criterion=gini, min_samples_split=4, n_estimators=200, score=0.8848797250859106, total=   1.6s\n",
      "[CV] bootstrap=True, criterion=gini, min_samples_split=4, n_estimators=500 \n",
      "[CV]  bootstrap=True, criterion=gini, min_samples_split=4, n_estimators=500, score=0.902229845626072, total=   4.0s\n",
      "[CV] bootstrap=True, criterion=gini, min_samples_split=4, n_estimators=500 \n",
      "[CV]  bootstrap=True, criterion=gini, min_samples_split=4, n_estimators=500, score=0.8958810068649885, total=   3.9s\n",
      "[CV] bootstrap=True, criterion=gini, min_samples_split=4, n_estimators=500 \n",
      "[CV]  bootstrap=True, criterion=gini, min_samples_split=4, n_estimators=500, score=0.8808705612829324, total=   3.9s\n",
      "[CV] bootstrap=True, criterion=gini, min_samples_split=4, n_estimators=1000 \n",
      "[CV]  bootstrap=True, criterion=gini, min_samples_split=4, n_estimators=1000, score=0.9045168667810177, total=   8.0s\n",
      "[CV] bootstrap=True, criterion=gini, min_samples_split=4, n_estimators=1000 \n",
      "[CV]  bootstrap=True, criterion=gini, min_samples_split=4, n_estimators=1000, score=0.8953089244851259, total=   7.8s\n",
      "[CV] bootstrap=True, criterion=gini, min_samples_split=4, n_estimators=1000 \n",
      "[CV]  bootstrap=True, criterion=gini, min_samples_split=4, n_estimators=1000, score=0.8820160366552119, total=   7.8s\n",
      "[CV] bootstrap=True, criterion=entropy, min_samples_split=2, n_estimators=100 \n",
      "[CV]  bootstrap=True, criterion=entropy, min_samples_split=2, n_estimators=100, score=0.9073756432246999, total=   1.2s\n",
      "[CV] bootstrap=True, criterion=entropy, min_samples_split=2, n_estimators=100 \n",
      "[CV]  bootstrap=True, criterion=entropy, min_samples_split=2, n_estimators=100, score=0.8958810068649885, total=   1.3s\n",
      "[CV] bootstrap=True, criterion=entropy, min_samples_split=2, n_estimators=100 \n",
      "[CV]  bootstrap=True, criterion=entropy, min_samples_split=2, n_estimators=100, score=0.8837342497136311, total=   1.3s\n",
      "[CV] bootstrap=True, criterion=entropy, min_samples_split=2, n_estimators=200 \n",
      "[CV]  bootstrap=True, criterion=entropy, min_samples_split=2, n_estimators=200, score=0.9068038879359634, total=   2.2s\n",
      "[CV] bootstrap=True, criterion=entropy, min_samples_split=2, n_estimators=200 \n",
      "[CV]  bootstrap=True, criterion=entropy, min_samples_split=2, n_estimators=200, score=0.8935926773455377, total=   2.1s\n",
      "[CV] bootstrap=True, criterion=entropy, min_samples_split=2, n_estimators=200 \n",
      "[CV]  bootstrap=True, criterion=entropy, min_samples_split=2, n_estimators=200, score=0.8820160366552119, total=   2.1s\n",
      "[CV] bootstrap=True, criterion=entropy, min_samples_split=2, n_estimators=500 \n",
      "[CV]  bootstrap=True, criterion=entropy, min_samples_split=2, n_estimators=500, score=0.9028016009148084, total=   6.3s\n",
      "[CV] bootstrap=True, criterion=entropy, min_samples_split=2, n_estimators=500 \n",
      "[CV]  bootstrap=True, criterion=entropy, min_samples_split=2, n_estimators=500, score=0.8947368421052632, total=   5.9s\n",
      "[CV] bootstrap=True, criterion=entropy, min_samples_split=2, n_estimators=500 \n",
      "[CV]  bootstrap=True, criterion=entropy, min_samples_split=2, n_estimators=500, score=0.8854524627720504, total=   5.4s\n",
      "[CV] bootstrap=True, criterion=entropy, min_samples_split=2, n_estimators=1000 \n"
     ]
    },
    {
     "name": "stdout",
     "output_type": "stream",
     "text": [
      "[CV]  bootstrap=True, criterion=entropy, min_samples_split=2, n_estimators=1000, score=0.9068038879359634, total=  10.5s\n",
      "[CV] bootstrap=True, criterion=entropy, min_samples_split=2, n_estimators=1000 \n",
      "[CV]  bootstrap=True, criterion=entropy, min_samples_split=2, n_estimators=1000, score=0.8924485125858124, total=  10.5s\n",
      "[CV] bootstrap=True, criterion=entropy, min_samples_split=2, n_estimators=1000 \n",
      "[CV]  bootstrap=True, criterion=entropy, min_samples_split=2, n_estimators=1000, score=0.8831615120274914, total=  10.3s\n",
      "[CV] bootstrap=True, criterion=entropy, min_samples_split=3, n_estimators=100 \n",
      "[CV]  bootstrap=True, criterion=entropy, min_samples_split=3, n_estimators=100, score=0.9068038879359634, total=   1.1s\n",
      "[CV] bootstrap=True, criterion=entropy, min_samples_split=3, n_estimators=100 \n",
      "[CV]  bootstrap=True, criterion=entropy, min_samples_split=3, n_estimators=100, score=0.8918764302059496, total=   1.0s\n",
      "[CV] bootstrap=True, criterion=entropy, min_samples_split=3, n_estimators=100 \n",
      "[CV]  bootstrap=True, criterion=entropy, min_samples_split=3, n_estimators=100, score=0.8797250859106529, total=   1.0s\n",
      "[CV] bootstrap=True, criterion=entropy, min_samples_split=3, n_estimators=200 \n",
      "[CV]  bootstrap=True, criterion=entropy, min_samples_split=3, n_estimators=200, score=0.9073756432246999, total=   2.1s\n",
      "[CV] bootstrap=True, criterion=entropy, min_samples_split=3, n_estimators=200 \n",
      "[CV]  bootstrap=True, criterion=entropy, min_samples_split=3, n_estimators=200, score=0.8941647597254004, total=   2.2s\n",
      "[CV] bootstrap=True, criterion=entropy, min_samples_split=3, n_estimators=200 \n",
      "[CV]  bootstrap=True, criterion=entropy, min_samples_split=3, n_estimators=200, score=0.8848797250859106, total=   2.2s\n",
      "[CV] bootstrap=True, criterion=entropy, min_samples_split=3, n_estimators=500 \n",
      "[CV]  bootstrap=True, criterion=entropy, min_samples_split=3, n_estimators=500, score=0.906232132647227, total=   5.7s\n",
      "[CV] bootstrap=True, criterion=entropy, min_samples_split=3, n_estimators=500 \n",
      "[CV]  bootstrap=True, criterion=entropy, min_samples_split=3, n_estimators=500, score=0.8918764302059496, total=   5.8s\n",
      "[CV] bootstrap=True, criterion=entropy, min_samples_split=3, n_estimators=500 \n",
      "[CV]  bootstrap=True, criterion=entropy, min_samples_split=3, n_estimators=500, score=0.8825887743413516, total=   5.4s\n",
      "[CV] bootstrap=True, criterion=entropy, min_samples_split=3, n_estimators=1000 \n",
      "[CV]  bootstrap=True, criterion=entropy, min_samples_split=3, n_estimators=1000, score=0.906232132647227, total=  11.1s\n",
      "[CV] bootstrap=True, criterion=entropy, min_samples_split=3, n_estimators=1000 \n",
      "[CV]  bootstrap=True, criterion=entropy, min_samples_split=3, n_estimators=1000, score=0.8953089244851259, total=  10.7s\n",
      "[CV] bootstrap=True, criterion=entropy, min_samples_split=3, n_estimators=1000 \n",
      "[CV]  bootstrap=True, criterion=entropy, min_samples_split=3, n_estimators=1000, score=0.8831615120274914, total=  11.2s\n",
      "[CV] bootstrap=True, criterion=entropy, min_samples_split=4, n_estimators=100 \n",
      "[CV]  bootstrap=True, criterion=entropy, min_samples_split=4, n_estimators=100, score=0.9136649514008005, total=   1.2s\n",
      "[CV] bootstrap=True, criterion=entropy, min_samples_split=4, n_estimators=100 \n",
      "[CV]  bootstrap=True, criterion=entropy, min_samples_split=4, n_estimators=100, score=0.8918764302059496, total=   1.2s\n",
      "[CV] bootstrap=True, criterion=entropy, min_samples_split=4, n_estimators=100 \n",
      "[CV]  bootstrap=True, criterion=entropy, min_samples_split=4, n_estimators=100, score=0.8820160366552119, total=   1.2s\n",
      "[CV] bootstrap=True, criterion=entropy, min_samples_split=4, n_estimators=200 \n",
      "[CV]  bootstrap=True, criterion=entropy, min_samples_split=4, n_estimators=200, score=0.906232132647227, total=   2.1s\n",
      "[CV] bootstrap=True, criterion=entropy, min_samples_split=4, n_estimators=200 \n",
      "[CV]  bootstrap=True, criterion=entropy, min_samples_split=4, n_estimators=200, score=0.8953089244851259, total=   2.2s\n",
      "[CV] bootstrap=True, criterion=entropy, min_samples_split=4, n_estimators=200 \n",
      "[CV]  bootstrap=True, criterion=entropy, min_samples_split=4, n_estimators=200, score=0.8843069873997709, total=   2.2s\n",
      "[CV] bootstrap=True, criterion=entropy, min_samples_split=4, n_estimators=500 \n",
      "[CV]  bootstrap=True, criterion=entropy, min_samples_split=4, n_estimators=500, score=0.9073756432246999, total=   5.3s\n",
      "[CV] bootstrap=True, criterion=entropy, min_samples_split=4, n_estimators=500 \n",
      "[CV]  bootstrap=True, criterion=entropy, min_samples_split=4, n_estimators=500, score=0.8975972540045767, total=   5.2s\n",
      "[CV] bootstrap=True, criterion=entropy, min_samples_split=4, n_estimators=500 \n",
      "[CV]  bootstrap=True, criterion=entropy, min_samples_split=4, n_estimators=500, score=0.8837342497136311, total=   5.1s\n",
      "[CV] bootstrap=True, criterion=entropy, min_samples_split=4, n_estimators=1000 \n",
      "[CV]  bootstrap=True, criterion=entropy, min_samples_split=4, n_estimators=1000, score=0.9068038879359634, total=  12.3s\n",
      "[CV] bootstrap=True, criterion=entropy, min_samples_split=4, n_estimators=1000 \n",
      "[CV]  bootstrap=True, criterion=entropy, min_samples_split=4, n_estimators=1000, score=0.8930205949656751, total=  11.1s\n",
      "[CV] bootstrap=True, criterion=entropy, min_samples_split=4, n_estimators=1000 \n",
      "[CV]  bootstrap=True, criterion=entropy, min_samples_split=4, n_estimators=1000, score=0.8871706758304696, total=  11.1s\n",
      "[CV] bootstrap=False, criterion=gini, min_samples_split=2, n_estimators=100 \n",
      "[CV]  bootstrap=False, criterion=gini, min_samples_split=2, n_estimators=100, score=0.9068038879359634, total=   1.4s\n",
      "[CV] bootstrap=False, criterion=gini, min_samples_split=2, n_estimators=100 \n",
      "[CV]  bootstrap=False, criterion=gini, min_samples_split=2, n_estimators=100, score=0.8924485125858124, total=   1.3s\n",
      "[CV] bootstrap=False, criterion=gini, min_samples_split=2, n_estimators=100 \n",
      "[CV]  bootstrap=False, criterion=gini, min_samples_split=2, n_estimators=100, score=0.8888888888888888, total=   1.4s\n",
      "[CV] bootstrap=False, criterion=gini, min_samples_split=2, n_estimators=200 \n",
      "[CV]  bootstrap=False, criterion=gini, min_samples_split=2, n_estimators=200, score=0.9033733562035449, total=   2.6s\n",
      "[CV] bootstrap=False, criterion=gini, min_samples_split=2, n_estimators=200 \n",
      "[CV]  bootstrap=False, criterion=gini, min_samples_split=2, n_estimators=200, score=0.8918764302059496, total=   2.6s\n",
      "[CV] bootstrap=False, criterion=gini, min_samples_split=2, n_estimators=200 \n",
      "[CV]  bootstrap=False, criterion=gini, min_samples_split=2, n_estimators=200, score=0.8848797250859106, total=   2.6s\n",
      "[CV] bootstrap=False, criterion=gini, min_samples_split=2, n_estimators=500 \n",
      "[CV]  bootstrap=False, criterion=gini, min_samples_split=2, n_estimators=500, score=0.9068038879359634, total=   6.7s\n",
      "[CV] bootstrap=False, criterion=gini, min_samples_split=2, n_estimators=500 \n",
      "[CV]  bootstrap=False, criterion=gini, min_samples_split=2, n_estimators=500, score=0.8907322654462243, total=   6.7s\n",
      "[CV] bootstrap=False, criterion=gini, min_samples_split=2, n_estimators=500 \n",
      "[CV]  bootstrap=False, criterion=gini, min_samples_split=2, n_estimators=500, score=0.8843069873997709, total=   6.5s\n",
      "[CV] bootstrap=False, criterion=gini, min_samples_split=2, n_estimators=1000 \n",
      "[CV]  bootstrap=False, criterion=gini, min_samples_split=2, n_estimators=1000, score=0.9090909090909091, total=  13.0s\n",
      "[CV] bootstrap=False, criterion=gini, min_samples_split=2, n_estimators=1000 \n",
      "[CV]  bootstrap=False, criterion=gini, min_samples_split=2, n_estimators=1000, score=0.8907322654462243, total=  12.3s\n",
      "[CV] bootstrap=False, criterion=gini, min_samples_split=2, n_estimators=1000 \n",
      "[CV]  bootstrap=False, criterion=gini, min_samples_split=2, n_estimators=1000, score=0.8831615120274914, total=  12.2s\n",
      "[CV] bootstrap=False, criterion=gini, min_samples_split=3, n_estimators=100 \n",
      "[CV]  bootstrap=False, criterion=gini, min_samples_split=3, n_estimators=100, score=0.9045168667810177, total=   1.2s\n",
      "[CV] bootstrap=False, criterion=gini, min_samples_split=3, n_estimators=100 \n",
      "[CV]  bootstrap=False, criterion=gini, min_samples_split=3, n_estimators=100, score=0.8821510297482837, total=   1.2s\n",
      "[CV] bootstrap=False, criterion=gini, min_samples_split=3, n_estimators=100 \n",
      "[CV]  bootstrap=False, criterion=gini, min_samples_split=3, n_estimators=100, score=0.8825887743413516, total=   1.2s\n",
      "[CV] bootstrap=False, criterion=gini, min_samples_split=3, n_estimators=200 \n"
     ]
    },
    {
     "name": "stdout",
     "output_type": "stream",
     "text": [
      "[CV]  bootstrap=False, criterion=gini, min_samples_split=3, n_estimators=200, score=0.9056603773584906, total=   2.5s\n",
      "[CV] bootstrap=False, criterion=gini, min_samples_split=3, n_estimators=200 \n",
      "[CV]  bootstrap=False, criterion=gini, min_samples_split=3, n_estimators=200, score=0.8867276887871853, total=   2.5s\n",
      "[CV] bootstrap=False, criterion=gini, min_samples_split=3, n_estimators=200 \n",
      "[CV]  bootstrap=False, criterion=gini, min_samples_split=3, n_estimators=200, score=0.8837342497136311, total=   2.4s\n",
      "[CV] bootstrap=False, criterion=gini, min_samples_split=3, n_estimators=500 \n",
      "[CV]  bootstrap=False, criterion=gini, min_samples_split=3, n_estimators=500, score=0.9050886220697542, total=   6.1s\n",
      "[CV] bootstrap=False, criterion=gini, min_samples_split=3, n_estimators=500 \n",
      "[CV]  bootstrap=False, criterion=gini, min_samples_split=3, n_estimators=500, score=0.8907322654462243, total=   6.5s\n",
      "[CV] bootstrap=False, criterion=gini, min_samples_split=3, n_estimators=500 \n",
      "[CV]  bootstrap=False, criterion=gini, min_samples_split=3, n_estimators=500, score=0.8837342497136311, total=   6.1s\n",
      "[CV] bootstrap=False, criterion=gini, min_samples_split=3, n_estimators=1000 \n",
      "[CV]  bootstrap=False, criterion=gini, min_samples_split=3, n_estimators=1000, score=0.9068038879359634, total=  12.3s\n",
      "[CV] bootstrap=False, criterion=gini, min_samples_split=3, n_estimators=1000 \n",
      "[CV]  bootstrap=False, criterion=gini, min_samples_split=3, n_estimators=1000, score=0.8918764302059496, total=  12.3s\n",
      "[CV] bootstrap=False, criterion=gini, min_samples_split=3, n_estimators=1000 \n",
      "[CV]  bootstrap=False, criterion=gini, min_samples_split=3, n_estimators=1000, score=0.8848797250859106, total=  12.4s\n",
      "[CV] bootstrap=False, criterion=gini, min_samples_split=4, n_estimators=100 \n",
      "[CV]  bootstrap=False, criterion=gini, min_samples_split=4, n_estimators=100, score=0.9039451114922813, total=   1.2s\n",
      "[CV] bootstrap=False, criterion=gini, min_samples_split=4, n_estimators=100 \n",
      "[CV]  bootstrap=False, criterion=gini, min_samples_split=4, n_estimators=100, score=0.8918764302059496, total=   1.2s\n",
      "[CV] bootstrap=False, criterion=gini, min_samples_split=4, n_estimators=100 \n",
      "[CV]  bootstrap=False, criterion=gini, min_samples_split=4, n_estimators=100, score=0.8837342497136311, total=   1.2s\n",
      "[CV] bootstrap=False, criterion=gini, min_samples_split=4, n_estimators=200 \n",
      "[CV]  bootstrap=False, criterion=gini, min_samples_split=4, n_estimators=200, score=0.902229845626072, total=   2.5s\n",
      "[CV] bootstrap=False, criterion=gini, min_samples_split=4, n_estimators=200 \n",
      "[CV]  bootstrap=False, criterion=gini, min_samples_split=4, n_estimators=200, score=0.8924485125858124, total=   2.5s\n",
      "[CV] bootstrap=False, criterion=gini, min_samples_split=4, n_estimators=200 \n",
      "[CV]  bootstrap=False, criterion=gini, min_samples_split=4, n_estimators=200, score=0.8814432989690721, total=   2.4s\n",
      "[CV] bootstrap=False, criterion=gini, min_samples_split=4, n_estimators=500 \n",
      "[CV]  bootstrap=False, criterion=gini, min_samples_split=4, n_estimators=500, score=0.9085191538021726, total=   6.1s\n",
      "[CV] bootstrap=False, criterion=gini, min_samples_split=4, n_estimators=500 \n",
      "[CV]  bootstrap=False, criterion=gini, min_samples_split=4, n_estimators=500, score=0.8913043478260869, total=   6.1s\n",
      "[CV] bootstrap=False, criterion=gini, min_samples_split=4, n_estimators=500 \n",
      "[CV]  bootstrap=False, criterion=gini, min_samples_split=4, n_estimators=500, score=0.8860252004581901, total=   6.0s\n",
      "[CV] bootstrap=False, criterion=gini, min_samples_split=4, n_estimators=1000 \n",
      "[CV]  bootstrap=False, criterion=gini, min_samples_split=4, n_estimators=1000, score=0.9073756432246999, total=  12.3s\n",
      "[CV] bootstrap=False, criterion=gini, min_samples_split=4, n_estimators=1000 \n",
      "[CV]  bootstrap=False, criterion=gini, min_samples_split=4, n_estimators=1000, score=0.8895881006864989, total=  12.3s\n",
      "[CV] bootstrap=False, criterion=gini, min_samples_split=4, n_estimators=1000 \n",
      "[CV]  bootstrap=False, criterion=gini, min_samples_split=4, n_estimators=1000, score=0.8865979381443299, total=  12.1s\n",
      "[CV] bootstrap=False, criterion=entropy, min_samples_split=2, n_estimators=100 \n",
      "[CV]  bootstrap=False, criterion=entropy, min_samples_split=2, n_estimators=100, score=0.9113779302458548, total=   1.6s\n",
      "[CV] bootstrap=False, criterion=entropy, min_samples_split=2, n_estimators=100 \n",
      "[CV]  bootstrap=False, criterion=entropy, min_samples_split=2, n_estimators=100, score=0.8935926773455377, total=   1.6s\n",
      "[CV] bootstrap=False, criterion=entropy, min_samples_split=2, n_estimators=100 \n",
      "[CV]  bootstrap=False, criterion=entropy, min_samples_split=2, n_estimators=100, score=0.8865979381443299, total=   1.6s\n",
      "[CV] bootstrap=False, criterion=entropy, min_samples_split=2, n_estimators=200 \n",
      "[CV]  bootstrap=False, criterion=entropy, min_samples_split=2, n_estimators=200, score=0.9096626643796455, total=   3.2s\n",
      "[CV] bootstrap=False, criterion=entropy, min_samples_split=2, n_estimators=200 \n",
      "[CV]  bootstrap=False, criterion=entropy, min_samples_split=2, n_estimators=200, score=0.8913043478260869, total=   3.2s\n",
      "[CV] bootstrap=False, criterion=entropy, min_samples_split=2, n_estimators=200 \n",
      "[CV]  bootstrap=False, criterion=entropy, min_samples_split=2, n_estimators=200, score=0.8820160366552119, total=   3.2s\n",
      "[CV] bootstrap=False, criterion=entropy, min_samples_split=2, n_estimators=500 \n",
      "[CV]  bootstrap=False, criterion=entropy, min_samples_split=2, n_estimators=500, score=0.9090909090909091, total=   8.3s\n",
      "[CV] bootstrap=False, criterion=entropy, min_samples_split=2, n_estimators=500 \n",
      "[CV]  bootstrap=False, criterion=entropy, min_samples_split=2, n_estimators=500, score=0.8907322654462243, total=   8.3s\n",
      "[CV] bootstrap=False, criterion=entropy, min_samples_split=2, n_estimators=500 \n",
      "[CV]  bootstrap=False, criterion=entropy, min_samples_split=2, n_estimators=500, score=0.8820160366552119, total=   8.2s\n",
      "[CV] bootstrap=False, criterion=entropy, min_samples_split=2, n_estimators=1000 \n",
      "[CV]  bootstrap=False, criterion=entropy, min_samples_split=2, n_estimators=1000, score=0.9085191538021726, total=  16.8s\n",
      "[CV] bootstrap=False, criterion=entropy, min_samples_split=2, n_estimators=1000 \n",
      "[CV]  bootstrap=False, criterion=entropy, min_samples_split=2, n_estimators=1000, score=0.8913043478260869, total=  16.3s\n",
      "[CV] bootstrap=False, criterion=entropy, min_samples_split=2, n_estimators=1000 \n",
      "[CV]  bootstrap=False, criterion=entropy, min_samples_split=2, n_estimators=1000, score=0.8814432989690721, total=  15.8s\n",
      "[CV] bootstrap=False, criterion=entropy, min_samples_split=3, n_estimators=100 \n",
      "[CV]  bootstrap=False, criterion=entropy, min_samples_split=3, n_estimators=100, score=0.906232132647227, total=   1.6s\n",
      "[CV] bootstrap=False, criterion=entropy, min_samples_split=3, n_estimators=100 \n",
      "[CV]  bootstrap=False, criterion=entropy, min_samples_split=3, n_estimators=100, score=0.8924485125858124, total=   1.6s\n",
      "[CV] bootstrap=False, criterion=entropy, min_samples_split=3, n_estimators=100 \n",
      "[CV]  bootstrap=False, criterion=entropy, min_samples_split=3, n_estimators=100, score=0.8854524627720504, total=   1.6s\n",
      "[CV] bootstrap=False, criterion=entropy, min_samples_split=3, n_estimators=200 \n",
      "[CV]  bootstrap=False, criterion=entropy, min_samples_split=3, n_estimators=200, score=0.9102344196683819, total=   3.2s\n",
      "[CV] bootstrap=False, criterion=entropy, min_samples_split=3, n_estimators=200 \n",
      "[CV]  bootstrap=False, criterion=entropy, min_samples_split=3, n_estimators=200, score=0.8941647597254004, total=   3.2s\n",
      "[CV] bootstrap=False, criterion=entropy, min_samples_split=3, n_estimators=200 \n",
      "[CV]  bootstrap=False, criterion=entropy, min_samples_split=3, n_estimators=200, score=0.8843069873997709, total=   3.1s\n",
      "[CV] bootstrap=False, criterion=entropy, min_samples_split=3, n_estimators=500 \n",
      "[CV]  bootstrap=False, criterion=entropy, min_samples_split=3, n_estimators=500, score=0.9079473985134362, total=   8.0s\n",
      "[CV] bootstrap=False, criterion=entropy, min_samples_split=3, n_estimators=500 \n",
      "[CV]  bootstrap=False, criterion=entropy, min_samples_split=3, n_estimators=500, score=0.8935926773455377, total=   8.1s\n",
      "[CV] bootstrap=False, criterion=entropy, min_samples_split=3, n_estimators=500 \n",
      "[CV]  bootstrap=False, criterion=entropy, min_samples_split=3, n_estimators=500, score=0.8820160366552119, total=   7.9s\n",
      "[CV] bootstrap=False, criterion=entropy, min_samples_split=3, n_estimators=1000 \n"
     ]
    },
    {
     "name": "stdout",
     "output_type": "stream",
     "text": [
      "[CV]  bootstrap=False, criterion=entropy, min_samples_split=3, n_estimators=1000, score=0.9079473985134362, total=  16.0s\n",
      "[CV] bootstrap=False, criterion=entropy, min_samples_split=3, n_estimators=1000 \n",
      "[CV]  bootstrap=False, criterion=entropy, min_samples_split=3, n_estimators=1000, score=0.8907322654462243, total=  16.0s\n",
      "[CV] bootstrap=False, criterion=entropy, min_samples_split=3, n_estimators=1000 \n",
      "[CV]  bootstrap=False, criterion=entropy, min_samples_split=3, n_estimators=1000, score=0.8837342497136311, total=  15.9s\n",
      "[CV] bootstrap=False, criterion=entropy, min_samples_split=4, n_estimators=100 \n",
      "[CV]  bootstrap=False, criterion=entropy, min_samples_split=4, n_estimators=100, score=0.9050886220697542, total=   1.6s\n",
      "[CV] bootstrap=False, criterion=entropy, min_samples_split=4, n_estimators=100 \n",
      "[CV]  bootstrap=False, criterion=entropy, min_samples_split=4, n_estimators=100, score=0.8941647597254004, total=   1.6s\n",
      "[CV] bootstrap=False, criterion=entropy, min_samples_split=4, n_estimators=100 \n",
      "[CV]  bootstrap=False, criterion=entropy, min_samples_split=4, n_estimators=100, score=0.8831615120274914, total=   1.6s\n",
      "[CV] bootstrap=False, criterion=entropy, min_samples_split=4, n_estimators=200 \n",
      "[CV]  bootstrap=False, criterion=entropy, min_samples_split=4, n_estimators=200, score=0.9056603773584906, total=   3.3s\n",
      "[CV] bootstrap=False, criterion=entropy, min_samples_split=4, n_estimators=200 \n",
      "[CV]  bootstrap=False, criterion=entropy, min_samples_split=4, n_estimators=200, score=0.8901601830663616, total=   3.2s\n",
      "[CV] bootstrap=False, criterion=entropy, min_samples_split=4, n_estimators=200 \n",
      "[CV]  bootstrap=False, criterion=entropy, min_samples_split=4, n_estimators=200, score=0.8831615120274914, total=   3.2s\n",
      "[CV] bootstrap=False, criterion=entropy, min_samples_split=4, n_estimators=500 \n",
      "[CV]  bootstrap=False, criterion=entropy, min_samples_split=4, n_estimators=500, score=0.9079473985134362, total=   8.2s\n",
      "[CV] bootstrap=False, criterion=entropy, min_samples_split=4, n_estimators=500 \n",
      "[CV]  bootstrap=False, criterion=entropy, min_samples_split=4, n_estimators=500, score=0.8913043478260869, total=   8.0s\n",
      "[CV] bootstrap=False, criterion=entropy, min_samples_split=4, n_estimators=500 \n",
      "[CV]  bootstrap=False, criterion=entropy, min_samples_split=4, n_estimators=500, score=0.8837342497136311, total=   7.9s\n",
      "[CV] bootstrap=False, criterion=entropy, min_samples_split=4, n_estimators=1000 \n",
      "[CV]  bootstrap=False, criterion=entropy, min_samples_split=4, n_estimators=1000, score=0.9085191538021726, total=  16.0s\n",
      "[CV] bootstrap=False, criterion=entropy, min_samples_split=4, n_estimators=1000 \n",
      "[CV]  bootstrap=False, criterion=entropy, min_samples_split=4, n_estimators=1000, score=0.8947368421052632, total=  16.0s\n",
      "[CV] bootstrap=False, criterion=entropy, min_samples_split=4, n_estimators=1000 \n",
      "[CV]  bootstrap=False, criterion=entropy, min_samples_split=4, n_estimators=1000, score=0.8843069873997709, total=  15.8s\n"
     ]
    },
    {
     "name": "stderr",
     "output_type": "stream",
     "text": [
      "[Parallel(n_jobs=1)]: Done 144 out of 144 | elapsed: 13.3min finished\n"
     ]
    },
    {
     "data": {
      "text/plain": [
       "GridSearchCV(cv='warn', error_score='raise-deprecating',\n",
       "       estimator=RandomForestClassifier(bootstrap=True, class_weight=None, criterion='gini',\n",
       "            max_depth=None, max_features='auto', max_leaf_nodes=None,\n",
       "            min_impurity_decrease=0.0, min_impurity_split=None,\n",
       "            min_samples_leaf=1, min_samples_split=2,\n",
       "            min_weight_fraction_leaf=0.0, n_estimators=200, n_jobs=None,\n",
       "            oob_score=False, random_state=None, verbose=0,\n",
       "            warm_start=False),\n",
       "       fit_params=None, iid='warn', n_jobs=None,\n",
       "       param_grid={'n_estimators': [100, 200, 500, 1000], 'min_samples_split': [2, 3, 4], 'bootstrap': [True, False], 'criterion': ['gini', 'entropy']},\n",
       "       pre_dispatch='2*n_jobs', refit=True, return_train_score='warn',\n",
       "       scoring=None, verbose=3)"
      ]
     },
     "execution_count": 43,
     "metadata": {},
     "output_type": "execute_result"
    }
   ],
   "source": [
    "# Train the model with GridSearch\n",
    "grid.fit(X_train_scaled, encoded_y_train)"
   ]
  },
  {
   "cell_type": "code",
   "execution_count": 44,
   "metadata": {},
   "outputs": [
    {
     "name": "stdout",
     "output_type": "stream",
     "text": [
      "{'bootstrap': False, 'criterion': 'entropy', 'min_samples_split': 2, 'n_estimators': 100}\n",
      "0.897196261682243\n"
     ]
    }
   ],
   "source": [
    "print(grid.best_params_)\n",
    "print(grid.best_score_)"
   ]
  },
  {
   "cell_type": "code",
   "execution_count": 46,
   "metadata": {},
   "outputs": [
    {
     "data": {
      "text/plain": [
       "RandomForestClassifier(bootstrap=False, class_weight=None,\n",
       "            criterion='entropy', max_depth=None, max_features='auto',\n",
       "            max_leaf_nodes=None, min_impurity_decrease=0.0,\n",
       "            min_impurity_split=None, min_samples_leaf=1,\n",
       "            min_samples_split=2, min_weight_fraction_leaf=0.0,\n",
       "            n_estimators=100, n_jobs=None, oob_score=False,\n",
       "            random_state=None, verbose=0, warm_start=False)"
      ]
     },
     "execution_count": 46,
     "metadata": {},
     "output_type": "execute_result"
    }
   ],
   "source": [
    "model2 = RandomForestClassifier(bootstrap = False, criterion = 'entropy', min_samples_split= 2, n_estimators= 100)\n",
    "model2.fit(X_train_scaled, encoded_y_train)"
   ]
  },
  {
   "cell_type": "markdown",
   "metadata": {},
   "source": [
    "# Save the Model"
   ]
  },
  {
   "cell_type": "code",
   "execution_count": 47,
   "metadata": {},
   "outputs": [
    {
     "name": "stdout",
     "output_type": "stream",
     "text": [
      "Training Data Score: 1.0\n",
      "Testing Data Score: 0.9021739130434783\n"
     ]
    }
   ],
   "source": [
    "print(f\"Training Data Score: {model2.score(X_train_scaled, encoded_y_train)}\")\n",
    "print(f\"Testing Data Score: {model2.score(X_test_scaled, encoded_y_test)}\")"
   ]
  },
  {
   "cell_type": "code",
   "execution_count": 48,
   "metadata": {},
   "outputs": [
    {
     "data": {
      "text/plain": [
       "['random_forest.sav']"
      ]
     },
     "execution_count": 48,
     "metadata": {},
     "output_type": "execute_result"
    }
   ],
   "source": [
    "# save your model by updating \"your_name\" with your name\n",
    "# and \"your_model\" with your model variable\n",
    "# be sure to turn this in to BCS\n",
    "# if joblib fails to import, try running the command to install in terminal/git-bash\n",
    "import joblib\n",
    "filename = 'random_forest.sav'\n",
    "joblib.dump(model2, filename)"
   ]
  },
  {
   "cell_type": "code",
   "execution_count": null,
   "metadata": {},
   "outputs": [],
   "source": []
  }
 ],
 "metadata": {
  "kernel_info": {
   "name": "dev"
  },
  "kernelspec": {
   "display_name": "Python [conda env:root]",
   "language": "python",
   "name": "conda-root-py"
  },
  "language_info": {
   "codemirror_mode": {
    "name": "ipython",
    "version": 3
   },
   "file_extension": ".py",
   "mimetype": "text/x-python",
   "name": "python",
   "nbconvert_exporter": "python",
   "pygments_lexer": "ipython3",
   "version": "3.7.3"
  },
  "nteract": {
   "version": "0.12.3"
  }
 },
 "nbformat": 4,
 "nbformat_minor": 2
}
